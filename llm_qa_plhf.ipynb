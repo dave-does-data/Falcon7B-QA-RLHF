{
  "nbformat": 4,
  "nbformat_minor": 0,
  "metadata": {
    "colab": {
      "provenance": [],
      "authorship_tag": "ABX9TyMPmqycDSlHfNgrRQAA/U2S",
      "include_colab_link": true
    },
    "kernelspec": {
      "name": "python3",
      "display_name": "Python 3"
    },
    "language_info": {
      "name": "python"
    }
  },
  "cells": [
    {
      "cell_type": "markdown",
      "metadata": {
        "id": "view-in-github",
        "colab_type": "text"
      },
      "source": [
        "<a href=\"https://colab.research.google.com/github/dave-does-data/llm-qa-rlhf/blob/main/llm_qa_plhf.ipynb\" target=\"_parent\"><img src=\"https://colab.research.google.com/assets/colab-badge.svg\" alt=\"Open In Colab\"/></a>"
      ]
    },
    {
      "cell_type": "code",
      "execution_count": 1,
      "metadata": {
        "id": "62mgWR1fQ94z"
      },
      "outputs": [],
      "source": [
        "%%capture\n",
        "!git clone https://github.com/dave-does-data/llm-qa-rlhf.git\n",
        "!pip install -r llm-qa-rlhf/requirements.txt"
      ]
    },
    {
      "cell_type": "code",
      "source": [
        "!wandb login"
      ],
      "metadata": {
        "id": "I-7TCRQpVaJz"
      },
      "execution_count": null,
      "outputs": []
    },
    {
      "cell_type": "code",
      "source": [
        "!python llm-qa-rlhf/src/trl/sft_trainer.py \\\n",
        "    --model_name meta-llama/Llama-2-7b-hf \\\n",
        "    --dataset_name dave-does-data/databricks-dolly-qa-subset-7k \\\n",
        "    --log_with 'wandb' \\\n",
        "    --load_in_4bit \\\n",
        "    --use_peft \\\n",
        "    --batch_size 4 \\\n",
        "    --gradient_accumulation_steps 2"
      ],
      "metadata": {
        "id": "M86KHvVXgxzh"
      },
      "execution_count": null,
      "outputs": []
    }
  ]
}