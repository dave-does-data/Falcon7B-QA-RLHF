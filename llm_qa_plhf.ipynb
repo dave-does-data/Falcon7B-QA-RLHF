{
  "nbformat": 4,
  "nbformat_minor": 0,
  "metadata": {
    "colab": {
      "provenance": [],
      "authorship_tag": "ABX9TyP5q1F/Vi3XuqgOsk37JDWC",
      "include_colab_link": true
    },
    "kernelspec": {
      "name": "python3",
      "display_name": "Python 3"
    },
    "language_info": {
      "name": "python"
    }
  },
  "cells": [
    {
      "cell_type": "markdown",
      "metadata": {
        "id": "view-in-github",
        "colab_type": "text"
      },
      "source": [
        "<a href=\"https://colab.research.google.com/github/dave-does-data/llm-qa-rlhf/blob/main/llm_qa_plhf.ipynb\" target=\"_parent\"><img src=\"https://colab.research.google.com/assets/colab-badge.svg\" alt=\"Open In Colab\"/></a>"
      ]
    },
    {
      "cell_type": "code",
      "execution_count": null,
      "metadata": {
        "id": "62mgWR1fQ94z"
      },
      "outputs": [],
      "source": [
        "%%capture\n",
        "!git clone https://github.com/dave-does-data/llm-qa-rlhf.git\n",
        "!pip install -r llm-qa-rlhf/requirements.txt"
      ]
    },
    {
      "cell_type": "code",
      "source": [
        "#from datasets import load_dataset,concatenate_datasets\n",
        "#dataset = load_dataset(\"databricks/databricks-dolly-15k\")\n",
        "#\n",
        "#def process_data(dataset):\n",
        "#  append_a = dataset.filter(lambda row: row[\"category\"]=='open_qa')\n",
        "#  append_b = dataset.filter(lambda row: row[\"category\"]=='closed_qa')\n",
        "#  append_c = dataset.filter(lambda row: row[\"category\"]=='general_qa')\n",
        "#  qa_dataset = concatenate_datasets([append_a, append_b, append_c]).shuffle(seed=42)\n",
        "#  qa_dataset = qa_dataset.add_column(\"text\",['### Question: ' +str(row['instruction']) + '### Answer: ' + str(row['response']) for row in qa_dataset])\n",
        "#  return qa_dataset\n",
        "#\n",
        "#train = process_data(dataset['train'])\n",
        "#train.to_csv('databricks-dolly-qa-subset-7k.csv')"
      ],
      "metadata": {
        "id": "I-7TCRQpVaJz"
      },
      "execution_count": 21,
      "outputs": []
    },
    {
      "cell_type": "code",
      "source": [
        "!git clone https://github.com/lvwerra/trl"
      ],
      "metadata": {
        "id": "vQ2jH34mgYaX",
        "outputId": "08bbf56d-43c4-4c5d-db25-a80d15c8c7fa",
        "colab": {
          "base_uri": "https://localhost:8080/"
        }
      },
      "execution_count": 26,
      "outputs": [
        {
          "output_type": "stream",
          "name": "stdout",
          "text": [
            "Cloning into 'trl'...\n",
            "remote: Enumerating objects: 3759, done.\u001b[K\n",
            "remote: Counting objects: 100% (1745/1745), done.\u001b[K\n",
            "remote: Compressing objects: 100% (514/514), done.\u001b[K\n",
            "remote: Total 3759 (delta 1428), reused 1382 (delta 1208), pack-reused 2014\u001b[K\n",
            "Receiving objects: 100% (3759/3759), 5.70 MiB | 24.51 MiB/s, done.\n",
            "Resolving deltas: 100% (2317/2317), done.\n"
          ]
        }
      ]
    },
    {
      "cell_type": "code",
      "source": [
        "!python trl/examples/scripts/sft_trainer.py \\\n",
        "    --model_name meta-llama/Llama-2-7b-hf \\\n",
        "    --dataset_name dave-does-data/databricks-dolly-qa-subset-7k \\\n",
        "    --load_in_4bit \\\n",
        "    --use_peft \\\n",
        "    --batch_size 4 \\\n",
        "    --gradient_accumulation_steps 2"
      ],
      "metadata": {
        "id": "M86KHvVXgxzh"
      },
      "execution_count": null,
      "outputs": []
    }
  ]
}